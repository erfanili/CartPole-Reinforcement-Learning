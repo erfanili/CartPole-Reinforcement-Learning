{
 "cells": [
  {
   "cell_type": "code",
   "execution_count": 7,
   "id": "04e328ef",
   "metadata": {},
   "outputs": [],
   "source": [
    "import numpy as np\n",
    "table = np.load('q_table.npy')\n",
    "with open('q_table.txt','w') as f:\n",
    "    for i in table:\n",
    "        f.write(f'{i}\\n')"
   ]
  },
  {
   "cell_type": "code",
   "execution_count": null,
   "id": "2b397697",
   "metadata": {},
   "outputs": [],
   "source": []
  }
 ],
 "metadata": {
  "kernelspec": {
   "display_name": "cartpole",
   "language": "python",
   "name": "python3"
  },
  "language_info": {
   "codemirror_mode": {
    "name": "ipython",
    "version": 3
   },
   "file_extension": ".py",
   "mimetype": "text/x-python",
   "name": "python",
   "nbconvert_exporter": "python",
   "pygments_lexer": "ipython3",
   "version": "3.12.11"
  }
 },
 "nbformat": 4,
 "nbformat_minor": 5
}
